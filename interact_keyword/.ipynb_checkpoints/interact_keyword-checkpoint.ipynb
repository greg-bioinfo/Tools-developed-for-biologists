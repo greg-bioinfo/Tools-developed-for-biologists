{
 "cells": [
  {
   "cell_type": "markdown",
   "metadata": {
    "id": "ba6LV8dxvra6"
   },
   "source": [
    "# Search for proteins close to a target by keywords"
   ]
  },
  {
   "cell_type": "markdown",
   "metadata": {
    "id": "u2x5RnidkiQ2"
   },
   "source": [
    "Enter the GENENAME of the protein of interest:"
   ]
  },
  {
   "cell_type": "code",
   "execution_count": 2,
   "metadata": {
    "executionInfo": {
     "elapsed": 203,
     "status": "ok",
     "timestamp": 1657794545974,
     "user": {
      "displayName": "CRCINA IMPACT",
      "userId": "11162400765451981766"
     },
     "user_tz": -120
    },
    "id": "O8AWSdsJTLfi"
   },
   "outputs": [],
   "source": [
    "prot_name=\"FAM111B\""
   ]
  },
  {
   "cell_type": "markdown",
   "metadata": {
    "id": "G6TNs6ilTQlN"
   },
   "source": [
    "Enter the keyword(s) of the biological processes you are looking for:"
   ]
  },
  {
   "cell_type": "code",
   "execution_count": 3,
   "metadata": {
    "executionInfo": {
     "elapsed": 23,
     "status": "ok",
     "timestamp": 1657794546213,
     "user": {
      "displayName": "CRCINA IMPACT",
      "userId": "11162400765451981766"
     },
     "user_tz": -120
    },
    "id": "NoRjGPlcTu5L"
   },
   "outputs": [],
   "source": [
    "keyword=[\"apoptotic\",\"ubiquitin\",\"dna\"]"
   ]
  },
  {
   "cell_type": "markdown",
   "metadata": {
    "id": "eYYXb4mKkpuY"
   },
   "source": [
    "Enter the number of proteins, having at least one keyword in their biological process, which will be on the graphs"
   ]
  },
  {
   "cell_type": "code",
   "execution_count": 4,
   "metadata": {
    "executionInfo": {
     "elapsed": 25,
     "status": "ok",
     "timestamp": 1657794546217,
     "user": {
      "displayName": "CRCINA IMPACT",
      "userId": "11162400765451981766"
     },
     "user_tz": -120
    },
    "id": "U15Y5Tr0li6-"
   },
   "outputs": [],
   "source": [
    "nb_top=20"
   ]
  },
  {
   "cell_type": "markdown",
   "metadata": {
    "id": "kXE7l0OvdOAv"
   },
   "source": [
    "## Library"
   ]
  },
  {
   "cell_type": "code",
   "execution_count": 5,
   "metadata": {
    "colab": {
     "base_uri": "https://localhost:8080/"
    },
    "executionInfo": {
     "elapsed": 4079,
     "status": "ok",
     "timestamp": 1657794550274,
     "user": {
      "displayName": "CRCINA IMPACT",
      "userId": "11162400765451981766"
     },
     "user_tz": -120
    },
    "id": "yVTU3p_H4S6s",
    "outputId": "61bf508c-006c-41e5-927c-3a71440fd113"
   },
   "outputs": [
    {
     "name": "stdout",
     "output_type": "stream",
     "text": [
      "Requirement already up-to-date: gensim==4.2 in c:\\users\\root\\anaconda3\\lib\\site-packages (4.2.0)\n",
      "Requirement already satisfied, skipping upgrade: smart-open>=1.8.1 in c:\\users\\root\\anaconda3\\lib\\site-packages (from gensim==4.2) (6.0.0)\n",
      "Requirement already satisfied, skipping upgrade: scipy>=0.18.1 in c:\\users\\root\\anaconda3\\lib\\site-packages (from gensim==4.2) (1.8.1)\n",
      "Requirement already satisfied, skipping upgrade: Cython==0.29.28 in c:\\users\\root\\anaconda3\\lib\\site-packages (from gensim==4.2) (0.29.28)\n",
      "Requirement already satisfied, skipping upgrade: numpy>=1.17.0 in c:\\users\\root\\anaconda3\\lib\\site-packages (from gensim==4.2) (1.19.5)\n"
     ]
    }
   ],
   "source": [
    "#Instal library \n",
    "!pip install --upgrade gensim==4.2"
   ]
  },
  {
   "cell_type": "code",
   "execution_count": 6,
   "metadata": {
    "colab": {
     "base_uri": "https://localhost:8080/"
    },
    "executionInfo": {
     "elapsed": 22234,
     "status": "ok",
     "timestamp": 1657794572491,
     "user": {
      "displayName": "CRCINA IMPACT",
      "userId": "11162400765451981766"
     },
     "user_tz": -120
    },
    "id": "fVI0LD_ovvEW",
    "outputId": "83290596-ba8d-4373-f91a-c73cb0ac4288"
   },
   "outputs": [
    {
     "name": "stdout",
     "output_type": "stream",
     "text": [
      "Requirement already satisfied: Node2Vec in c:\\users\\root\\anaconda3\\lib\\site-packages (0.4.5)\n",
      "Requirement already satisfied: networkx<3.0,>=2.5 in c:\\users\\root\\anaconda3\\lib\\site-packages (from Node2Vec) (2.8)\n",
      "Requirement already satisfied: joblib<2.0.0,>=1.1.0 in c:\\users\\root\\anaconda3\\lib\\site-packages (from Node2Vec) (1.1.0)\n",
      "Requirement already satisfied: numpy<2.0.0,>=1.19.5 in c:\\users\\root\\anaconda3\\lib\\site-packages (from Node2Vec) (1.19.5)\n",
      "Requirement already satisfied: tqdm<5.0.0,>=4.55.1 in c:\\users\\root\\anaconda3\\lib\\site-packages (from Node2Vec) (4.64.0)\n",
      "Requirement already satisfied: gensim<5.0.0,>=4.1.2 in c:\\users\\root\\anaconda3\\lib\\site-packages (from Node2Vec) (4.2.0)\n",
      "Requirement already satisfied: colorama; platform_system == \"Windows\" in c:\\users\\root\\anaconda3\\lib\\site-packages (from tqdm<5.0.0,>=4.55.1->Node2Vec) (0.4.3)\n",
      "Requirement already satisfied: smart-open>=1.8.1 in c:\\users\\root\\anaconda3\\lib\\site-packages (from gensim<5.0.0,>=4.1.2->Node2Vec) (6.0.0)\n",
      "Requirement already satisfied: scipy>=0.18.1 in c:\\users\\root\\anaconda3\\lib\\site-packages (from gensim<5.0.0,>=4.1.2->Node2Vec) (1.8.1)\n",
      "Requirement already satisfied: Cython==0.29.28 in c:\\users\\root\\anaconda3\\lib\\site-packages (from gensim<5.0.0,>=4.1.2->Node2Vec) (0.29.28)\n",
      "Note: you may need to restart the kernel to use updated packages.\n",
      "Requirement already satisfied: bioservices in c:\\users\\root\\anaconda3\\lib\\site-packages (1.8.3)\n",
      "Requirement already satisfied: lxml in c:\\users\\root\\anaconda3\\lib\\site-packages (from bioservices) (4.5.2)\n",
      "Requirement already satisfied: pandas in c:\\users\\root\\anaconda3\\lib\\site-packages (from bioservices) (1.0.5)\n",
      "Requirement already satisfied: requests-cache in c:\\users\\root\\anaconda3\\lib\\site-packages (from bioservices) (0.6.4)\n",
      "Requirement already satisfied: grequests in c:\\users\\root\\anaconda3\\lib\\site-packages (from bioservices) (0.6.0)\n",
      "Requirement already satisfied: requests in c:\\users\\root\\anaconda3\\lib\\site-packages (from bioservices) (2.24.0)\n",
      "Requirement already satisfied: beautifulsoup4 in c:\\users\\root\\anaconda3\\lib\\site-packages (from bioservices) (4.9.1)\n",
      "Requirement already satisfied: wrapt in c:\\users\\root\\anaconda3\\lib\\site-packages (from bioservices) (1.12.1)\n",
      "Requirement already satisfied: easydev>=0.9.36 in c:\\users\\root\\anaconda3\\lib\\site-packages (from bioservices) (0.12.0)\n",
      "Requirement already satisfied: appdirs in c:\\users\\root\\anaconda3\\lib\\site-packages (from bioservices) (1.4.4)\n",
      "Requirement already satisfied: colorlog in c:\\users\\root\\anaconda3\\lib\\site-packages (from bioservices) (6.6.0)\n",
      "Requirement already satisfied: suds-community in c:\\users\\root\\anaconda3\\lib\\site-packages (from bioservices) (0.8.5)\n",
      "Requirement already satisfied: xmltodict in c:\\users\\root\\anaconda3\\lib\\site-packages (from bioservices) (0.12.0)\n",
      "Requirement already satisfied: pytz>=2017.2 in c:\\users\\root\\anaconda3\\lib\\site-packages (from pandas->bioservices) (2020.1)\n",
      "Requirement already satisfied: numpy>=1.13.3 in c:\\users\\root\\anaconda3\\lib\\site-packages (from pandas->bioservices) (1.19.5)\n",
      "Requirement already satisfied: python-dateutil>=2.6.1 in c:\\users\\root\\anaconda3\\lib\\site-packages (from pandas->bioservices) (2.8.1)\n",
      "Requirement already satisfied: url-normalize>=1.4 in c:\\users\\root\\anaconda3\\lib\\site-packages (from requests-cache->bioservices) (1.4.3)\n",
      "Requirement already satisfied: itsdangerous in c:\\users\\root\\anaconda3\\lib\\site-packages (from requests-cache->bioservices) (1.1.0)\n",
      "Requirement already satisfied: gevent in c:\\users\\root\\anaconda3\\lib\\site-packages (from grequests->bioservices) (20.6.2)\n",
      "Requirement already satisfied: chardet<4,>=3.0.2 in c:\\users\\root\\anaconda3\\lib\\site-packages (from requests->bioservices) (3.0.4)\n",
      "Requirement already satisfied: urllib3!=1.25.0,!=1.25.1,<1.26,>=1.21.1 in c:\\users\\root\\anaconda3\\lib\\site-packages (from requests->bioservices) (1.25.11)\n",
      "Requirement already satisfied: certifi>=2017.4.17 in c:\\users\\root\\anaconda3\\lib\\site-packages (from requests->bioservices) (2021.10.8)\n",
      "Requirement already satisfied: idna<3,>=2.5 in c:\\users\\root\\anaconda3\\lib\\site-packages (from requests->bioservices) (2.10)\n",
      "Requirement already satisfied: soupsieve>1.2 in c:\\users\\root\\anaconda3\\lib\\site-packages (from beautifulsoup4->bioservices) (2.0.1)\n",
      "Requirement already satisfied: pexpect in c:\\users\\root\\anaconda3\\lib\\site-packages (from easydev>=0.9.36->bioservices) (4.8.0)\n",
      "Requirement already satisfied: colorama in c:\\users\\root\\anaconda3\\lib\\site-packages (from easydev>=0.9.36->bioservices) (0.4.3)\n",
      "Requirement already satisfied: six>=1.5 in c:\\users\\root\\anaconda3\\lib\\site-packages (from python-dateutil>=2.6.1->pandas->bioservices) (1.15.0)\n",
      "Requirement already satisfied: zope.event in c:\\users\\root\\anaconda3\\lib\\site-packages (from gevent->grequests->bioservices) (4.4)\n",
      "Requirement already satisfied: greenlet>=0.4.16; platform_python_implementation == \"CPython\" in c:\\users\\root\\anaconda3\\lib\\site-packages (from gevent->grequests->bioservices) (0.4.16)\n",
      "Requirement already satisfied: cffi>=1.12.2; platform_python_implementation == \"CPython\" and sys_platform == \"win32\" in c:\\users\\root\\anaconda3\\lib\\site-packages (from gevent->grequests->bioservices) (1.14.0)\n",
      "Requirement already satisfied: zope.interface in c:\\users\\root\\anaconda3\\lib\\site-packages (from gevent->grequests->bioservices) (4.7.1)\n",
      "Requirement already satisfied: setuptools in c:\\users\\root\\anaconda3\\lib\\site-packages (from gevent->grequests->bioservices) (49.2.0.post20200714)\n",
      "Collecting ptyprocess>=0.5\n",
      "  Downloading ptyprocess-0.7.0-py2.py3-none-any.whl (13 kB)\n",
      "Requirement already satisfied: pycparser in c:\\users\\root\\anaconda3\\lib\\site-packages (from cffi>=1.12.2; platform_python_implementation == \"CPython\" and sys_platform == \"win32\"->gevent->grequests->bioservices) (2.20)\n",
      "Installing collected packages: ptyprocess\n",
      "Successfully installed ptyprocess-0.7.0\n",
      "Note: you may need to restart the kernel to use updated packages.\n",
      "Requirement already satisfied: goatools in c:\\users\\root\\anaconda3\\lib\\site-packages (1.2.3)\n",
      "Requirement already satisfied: xlsxwriter in c:\\users\\root\\anaconda3\\lib\\site-packages (from goatools) (1.2.9)\n",
      "Requirement already satisfied: statsmodels in c:\\users\\root\\anaconda3\\lib\\site-packages (from goatools) (0.11.1)\n",
      "Requirement already satisfied: xlrd==1.2.0 in c:\\users\\root\\anaconda3\\lib\\site-packages (from goatools) (1.2.0)\n",
      "Requirement already satisfied: requests in c:\\users\\root\\anaconda3\\lib\\site-packages (from goatools) (2.24.0)\n",
      "Requirement already satisfied: pydot in c:\\users\\root\\anaconda3\\lib\\site-packages (from goatools) (1.4.2)\n",
      "Requirement already satisfied: pandas in c:\\users\\root\\anaconda3\\lib\\site-packages (from goatools) (1.0.5)\n",
      "Requirement already satisfied: scipy in c:\\users\\root\\anaconda3\\lib\\site-packages (from goatools) (1.8.1)\n",
      "Requirement already satisfied: numpy in c:\\users\\root\\anaconda3\\lib\\site-packages (from goatools) (1.19.5)\n",
      "Requirement already satisfied: docopt in c:\\users\\root\\anaconda3\\lib\\site-packages (from goatools) (0.6.2)\n",
      "Requirement already satisfied: patsy>=0.5 in c:\\users\\root\\anaconda3\\lib\\site-packages (from statsmodels->goatools) (0.5.1)\n",
      "Requirement already satisfied: idna<3,>=2.5 in c:\\users\\root\\anaconda3\\lib\\site-packages (from requests->goatools) (2.10)\n",
      "Requirement already satisfied: chardet<4,>=3.0.2 in c:\\users\\root\\anaconda3\\lib\\site-packages (from requests->goatools) (3.0.4)\n",
      "Requirement already satisfied: certifi>=2017.4.17 in c:\\users\\root\\anaconda3\\lib\\site-packages (from requests->goatools) (2021.10.8)\n",
      "Requirement already satisfied: urllib3!=1.25.0,!=1.25.1,<1.26,>=1.21.1 in c:\\users\\root\\anaconda3\\lib\\site-packages (from requests->goatools) (1.25.11)\n",
      "Requirement already satisfied: pyparsing>=2.1.4 in c:\\users\\root\\anaconda3\\lib\\site-packages (from pydot->goatools) (2.4.7)\n",
      "Requirement already satisfied: python-dateutil>=2.6.1 in c:\\users\\root\\anaconda3\\lib\\site-packages (from pandas->goatools) (2.8.1)\n",
      "Requirement already satisfied: pytz>=2017.2 in c:\\users\\root\\anaconda3\\lib\\site-packages (from pandas->goatools) (2020.1)\n",
      "Requirement already satisfied: six in c:\\users\\root\\anaconda3\\lib\\site-packages (from patsy>=0.5->statsmodels->goatools) (1.15.0)\n",
      "Note: you may need to restart the kernel to use updated packages.\n"
     ]
    },
    {
     "ename": "ModuleNotFoundError",
     "evalue": "No module named 'google.colab'",
     "output_type": "error",
     "traceback": [
      "\u001b[1;31m---------------------------------------------------------------------------\u001b[0m",
      "\u001b[1;31mModuleNotFoundError\u001b[0m                       Traceback (most recent call last)",
      "\u001b[1;32m<ipython-input-6-bd7b5224732d>\u001b[0m in \u001b[0;36m<module>\u001b[1;34m\u001b[0m\n\u001b[0;32m     14\u001b[0m \u001b[1;32mfrom\u001b[0m \u001b[0mgoatools\u001b[0m \u001b[1;32mimport\u001b[0m \u001b[0mobo_parser\u001b[0m\u001b[1;33m\u001b[0m\u001b[1;33m\u001b[0m\u001b[0m\n\u001b[0;32m     15\u001b[0m \u001b[1;32mimport\u001b[0m \u001b[0mjson\u001b[0m\u001b[1;33m\u001b[0m\u001b[1;33m\u001b[0m\u001b[0m\n\u001b[1;32m---> 16\u001b[1;33m \u001b[1;32mfrom\u001b[0m \u001b[0mgoogle\u001b[0m\u001b[1;33m.\u001b[0m\u001b[0mcolab\u001b[0m \u001b[1;32mimport\u001b[0m \u001b[0mdrive\u001b[0m\u001b[1;33m\u001b[0m\u001b[1;33m\u001b[0m\u001b[0m\n\u001b[0m\u001b[0;32m     17\u001b[0m \u001b[1;32mfrom\u001b[0m \u001b[0mgoogle\u001b[0m\u001b[1;33m.\u001b[0m\u001b[0mcolab\u001b[0m \u001b[1;32mimport\u001b[0m \u001b[0mfiles\u001b[0m\u001b[1;33m\u001b[0m\u001b[1;33m\u001b[0m\u001b[0m\n\u001b[0;32m     18\u001b[0m \u001b[0mdrive\u001b[0m\u001b[1;33m.\u001b[0m\u001b[0mmount\u001b[0m\u001b[1;33m(\u001b[0m\u001b[1;34m'/content/gdrive'\u001b[0m\u001b[1;33m)\u001b[0m\u001b[1;33m\u001b[0m\u001b[1;33m\u001b[0m\u001b[0m\n",
      "\u001b[1;31mModuleNotFoundError\u001b[0m: No module named 'google.colab'"
     ]
    }
   ],
   "source": [
    "import matplotlib.pyplot as plt\n",
    "import networkx as nx \n",
    "import requests\n",
    "%pip install Node2Vec\n",
    "from node2vec import Node2Vec\n",
    "from gensim.models import Word2Vec\n",
    "\n",
    "## NEW -> Uniprot library\n",
    "%pip install bioservices\n",
    "from bioservices.uniprot import UniProt\n",
    "u = UniProt(verbose = False)\n",
    "\n",
    "%pip install goatools\n",
    "from goatools import obo_parser\n",
    "import json\n",
    "from google.colab import drive\n",
    "from google.colab import files\n",
    "drive.mount('/content/gdrive')\n"
   ]
  },
  {
   "cell_type": "markdown",
   "metadata": {
    "id": "kdg8-w97c-aw"
   },
   "source": [
    "## Functions"
   ]
  },
  {
   "cell_type": "code",
   "execution_count": null,
   "metadata": {
    "colab": {
     "base_uri": "https://localhost:8080/",
     "height": 0
    },
    "executionInfo": {
     "elapsed": 45,
     "status": "ok",
     "timestamp": 1657794572493,
     "user": {
      "displayName": "CRCINA IMPACT",
      "userId": "11162400765451981766"
     },
     "user_tz": -120
    },
    "id": "D62WsWkjx_Rg",
    "outputId": "35b65b24-063b-44ff-9b6f-70a7b4a0808c"
   },
   "outputs": [],
   "source": [
    "#Converts the name of a gene to the corresponding UNIPROT identifier\n",
    "## NEW\n",
    "def convert_GENENAME_ACC(id) :\n",
    "    convert = u.mapping(fr=\"Gene_Name\", to=\"UniProtKB\", query=id)\n",
    "    for value in range(len(convert)) :\n",
    "        if convert['results'][value]['to']['organism']['taxonId'] == 9606 :\n",
    "            print(convert['results'][value]['to']['primaryAccession'])\n",
    "    return convert['results'][value]['to']['primaryAccession']\n",
    "\n",
    "\n",
    "\"\"\"\n",
    "def convert_GENENAME_ACC(id):\n",
    "    url = 'http://www.uniprot.org/mapping/' \n",
    "    params = {'from':'GENENAME','to':'ACC','format':'tab','query':id} \n",
    "    request = requests.get(url, params)\n",
    "    return request.text.split(\"\\n\")[1].split(\"\\t\")[1]\n",
    "\"\"\""
   ]
  },
  {
   "cell_type": "code",
   "execution_count": null,
   "metadata": {
    "executionInfo": {
     "elapsed": 40,
     "status": "ok",
     "timestamp": 1657794572499,
     "user": {
      "displayName": "CRCINA IMPACT",
      "userId": "11162400765451981766"
     },
     "user_tz": -120
    },
    "id": "NcEBoCXbeCEM"
   },
   "outputs": [],
   "source": [
    "#Lists all the keywords present in the protein set\n",
    "def list_keyword(list_node,dico_bp,go,kw):\n",
    "    \n",
    "    list_k=[]\n",
    "    for i in list_node:\n",
    "        if i in dico_bp.keys():\n",
    "            match=False\n",
    "            for v in dico_bp[i]:\n",
    "                bp=go[v].name\n",
    "                for k in kw:\n",
    "                    if k in bp:\n",
    "                        match=True\n",
    "            if match==True and  i not in list_k:\n",
    "                list_k.append(i)\n",
    "    return list_k"
   ]
  },
  {
   "cell_type": "code",
   "execution_count": null,
   "metadata": {
    "executionInfo": {
     "elapsed": 42,
     "status": "ok",
     "timestamp": 1657794572502,
     "user": {
      "displayName": "CRCINA IMPACT",
      "userId": "11162400765451981766"
     },
     "user_tz": -120
    },
    "id": "LxA8vLBGeC4m"
   },
   "outputs": [],
   "source": [
    "#List of proteins having the closest vector to the studied protein and having the keyword in biological processes\n",
    "def top_similar(list_k,model,prot_name,top):\n",
    "    dico_score={}\n",
    "    final=[]\n",
    "    for i in list_k:\n",
    "        score=model.wv.similarity(prot_name,i)\n",
    "        dico_score[score]=i\n",
    "    top_list=sorted(dico_score.keys(),reverse=True)\n",
    "    for s in top_list[:top]:\n",
    "        final.append((dico_score[s],round(s,3)))\n",
    "    return final\n",
    "  "
   ]
  },
  {
   "cell_type": "code",
   "execution_count": null,
   "metadata": {
    "executionInfo": {
     "elapsed": 30,
     "status": "ok",
     "timestamp": 1657794572804,
     "user": {
      "displayName": "CRCINA IMPACT",
      "userId": "11162400765451981766"
     },
     "user_tz": -120
    },
    "id": "zPefXvf6LjyT"
   },
   "outputs": [],
   "source": [
    "#Write the file with the proteins of the graph, their biological processes and their molecular functions\n",
    "def write_top_list(top_list,dico_bp,go):\n",
    "  with open(\"liste_proteines.txt\",\"w\") as f:\n",
    "    for i in top_list:\n",
    "      list_bp=[]\n",
    "      acc=convert_GENENAME_ACC(i)\n",
    "      for b in dico_bp[i]:\n",
    "        if go[b].name not in list_bp:\n",
    "          list_bp.append(go[b].name)\n",
    "      list_mf=[]\n",
    "      r=requests.get(f\"http://www.ebi.ac.uk/QuickGO/services/annotation/search?geneProductId={acc}\")\n",
    "      data=r.json()\n",
    "      for j in data[\"results\"]:\n",
    "        if j[\"goAspect\"]==\"molecular_function\" and j[\"goId\"] not in list_mf:\n",
    "            list_mf.append(go[j[\"goId\"]].name)\n",
    "      f.write(f\"nom :{i}\\nProcessus biologique:\\n{list_bp}\\nFonction moléculaire:\\n{list_mf}\\n\\n\")\n",
    "  files.download(\"liste_proteines.txt\")\n"
   ]
  },
  {
   "cell_type": "code",
   "execution_count": null,
   "metadata": {
    "executionInfo": {
     "elapsed": 30,
     "status": "ok",
     "timestamp": 1657794572807,
     "user": {
      "displayName": "CRCINA IMPACT",
      "userId": "11162400765451981766"
     },
     "user_tz": -120
    },
    "id": "Xb5pvbBjeNgi"
   },
   "outputs": [],
   "source": [
    "#Display the protein graph with the shortest path\n",
    "def display_shortest_path(start_GN,list_prot):\n",
    "    G1=nx.Graph()\n",
    "    list_query=[]\n",
    "    list_node=[]\n",
    "    for i in list_prot:\n",
    "        list_query.append(i[0])\n",
    "        if i[0] not in G1.nodes():\n",
    "            G1.add_node(i[0])\n",
    "        if i[0] not in list_node:\n",
    "            list_node.append(i[0])\n",
    "        path=nx.shortest_path(G,source=start_GN,target=i[0])\n",
    "        j=0\n",
    "        while j<len(path)-1:\n",
    "            name_p=path[j]\n",
    "            name_p1=path[j+1]\n",
    "            if name_p not in G1.nodes():\n",
    "                G1.add_node(name_p)\n",
    "            if path[j] not in list_node:\n",
    "                list_node.append(path[j])\n",
    "            if name_p1 not in G1.nodes():\n",
    "                G1.add_node(name_p1)\n",
    "            if path[j+1] not in list_node:\n",
    "                list_node.append(path[j+1])\n",
    "            G1.add_edge(name_p,name_p1)\n",
    "            j+=1\n",
    "    color_map=[]\n",
    "    for node in G1:\n",
    "        if node==start_GN:\n",
    "            color_map.append('red')\n",
    "        elif node in list_query:\n",
    "            color_map.append(\"blue\")\n",
    "        else: \n",
    "            color_map.append('green')\n",
    "    list_size=[]\n",
    "    for s in G1.nodes():\n",
    "        score=model.wv.similarity(start_GN,s)\n",
    "        list_size.append(score)\n",
    "    fig = plt.figure(1, figsize=(40, 20))\n",
    "    pos = nx.spring_layout(G1,scale=4)\n",
    "    nx.draw(G1,pos,with_labels=True,node_color=color_map,node_size=[v*15500 for v in list_size],bbox=dict(facecolor=\"white\", edgecolor='black', boxstyle='round,pad=0.2'), font_size=25)\n",
    "    plt.savefig(\"Graph_SP.png\", format=\"PNG\")\n",
    "    files.download(\"Graph_SP.png\") \n",
    "    return list(G1.nodes())\n",
    "                "
   ]
  },
  {
   "cell_type": "markdown",
   "metadata": {
    "id": "eE_GBgMUeWCv"
   },
   "source": [
    "## Function call"
   ]
  },
  {
   "cell_type": "code",
   "execution_count": null,
   "metadata": {
    "colab": {
     "base_uri": "https://localhost:8080/"
    },
    "executionInfo": {
     "elapsed": 9630,
     "status": "ok",
     "timestamp": 1657794582408,
     "user": {
      "displayName": "CRCINA IMPACT",
      "userId": "11162400765451981766"
     },
     "user_tz": -120
    },
    "id": "63vbKdW_dm0M",
    "outputId": "20005517-a44b-498b-ef86-e795b70bcc99"
   },
   "outputs": [],
   "source": [
    "#Creation of the graph\n",
    "G=nx.Graph()\n",
    "with open(\"/content/gdrive/MyDrive/Search_protein_keywords/edges_string.txt\",\"r\") as f:\n",
    "    for l in f.readlines():\n",
    "        for m in l.split():\n",
    "            if m not in G.nodes():\n",
    "                G.add_node(m)\n",
    "        G.add_edge(l.split()[0],l.split()[1])\n",
    "print(len(G.nodes()))\n",
    "print(len(G.edges()))"
   ]
  },
  {
   "cell_type": "code",
   "execution_count": null,
   "metadata": {
    "executionInfo": {
     "elapsed": 773,
     "status": "ok",
     "timestamp": 1657794583043,
     "user": {
      "displayName": "CRCINA IMPACT",
      "userId": "11162400765451981766"
     },
     "user_tz": -120
    },
    "id": "QdRBvqZox_nV"
   },
   "outputs": [],
   "source": [
    "#Loading the node2vec model\n",
    "model = Word2Vec.load(\"/content/gdrive/MyDrive/Search_protein_keywords/string_node2vec.model\")"
   ]
  },
  {
   "cell_type": "code",
   "execution_count": null,
   "metadata": {
    "colab": {
     "base_uri": "https://localhost:8080/"
    },
    "executionInfo": {
     "elapsed": 3028,
     "status": "ok",
     "timestamp": 1657794586052,
     "user": {
      "displayName": "CRCINA IMPACT",
      "userId": "11162400765451981766"
     },
     "user_tz": -120
    },
    "id": "b5BFWS1LOZUo",
    "outputId": "33379d40-c9ba-48ff-9976-5877bedfe093"
   },
   "outputs": [],
   "source": [
    "#Load goatools dictionary to convert goterms\n",
    "go = obo_parser.GODag(\"/content/gdrive/MyDrive/Search_protein_keywords/go-basic.obo\")"
   ]
  },
  {
   "cell_type": "markdown",
   "metadata": {
    "id": "a1JGk4WAGMwx"
   },
   "source": [
    "## Results"
   ]
  },
  {
   "cell_type": "code",
   "execution_count": null,
   "metadata": {
    "colab": {
     "base_uri": "https://localhost:8080/",
     "height": 747
    },
    "executionInfo": {
     "elapsed": 76715,
     "status": "ok",
     "timestamp": 1657794662490,
     "user": {
      "displayName": "CRCINA IMPACT",
      "userId": "11162400765451981766"
     },
     "user_tz": -120
    },
    "id": "BYmqsmRI5MpU",
    "outputId": "d82b59a8-b4b2-4588-e8ad-36d40daf3eac"
   },
   "outputs": [],
   "source": [
    "with open(\"/content/gdrive/MyDrive/Search_protein_keywords/bp_string2.json\",\"r\") as f:\n",
    "    dico_bp=json.load(f)\n",
    "list_k=list_keyword(list(G.nodes()),dico_bp,go,keyword)\n",
    "print(\"taille de la liste: \",len(list_k))\n",
    "if len(list_k)>0:\n",
    "  try:\n",
    "    top_list=top_similar(list_k,model,prot_name,nb_top)\n",
    "    list_prot=display_shortest_path(prot_name,top_list)\n",
    "    write_top_list(list_prot,dico_bp,go)\n",
    "\n",
    "  \n",
    "  except:\n",
    "    print(\"*\"*50)\n",
    "    print(\"Cet identifiant n'est pas valide ou bien la protéine n'est pas présente dans l'intéractome\")\n",
    "    print(\"Veuillez saisir un autre identifiant UNIPROT\")\n",
    "    print(\"*\"*50)\n",
    "\n",
    "else:\n",
    "  print(\"*\"*50)\n",
    "  print(\"Aucun de ces mots clés n'est présent dans les processus biologiques\")\n",
    "  print(\"Veuillez saisir un autre mot clé\")\n",
    "  print(\"*\"*50)\n",
    "\n"
   ]
  }
 ],
 "metadata": {
  "colab": {
   "collapsed_sections": [
    "kXE7l0OvdOAv",
    "kdg8-w97c-aw",
    "eE_GBgMUeWCv"
   ],
   "name": "interact_keyword.ipynb",
   "provenance": []
  },
  "kernelspec": {
   "display_name": "Python 3",
   "language": "python",
   "name": "python3"
  },
  "language_info": {
   "codemirror_mode": {
    "name": "ipython",
    "version": 3
   },
   "file_extension": ".py",
   "mimetype": "text/x-python",
   "name": "python",
   "nbconvert_exporter": "python",
   "pygments_lexer": "ipython3",
   "version": "3.8.3"
  }
 },
 "nbformat": 4,
 "nbformat_minor": 1
}
