{
 "cells": [
  {
   "cell_type": "code",
   "execution_count": 10,
   "metadata": {},
   "outputs": [],
   "source": [
    "import matplotlib.pyplot as plt\n",
    "import numpy as np\n",
    "import pandas as pd\n",
    "from Bio import SeqIO\n",
    "from Bio import AlignIO\n",
    "import sys\n",
    "import pymol"
   ]
  },
  {
   "cell_type": "code",
   "execution_count": 2,
   "metadata": {},
   "outputs": [],
   "source": [
    "#fonction renvoyant un dot_plot (matrice de point) á partir de deux sequences avec une fenêtre comme seuil minimum\n",
    "def dotplot(seq1,seq2,window):\n",
    "    x=[]\n",
    "    y=[]\n",
    "    for i in range(len(seq1)-window):\n",
    "        for j in range(len(seq2)-window):\n",
    "            if seq1[i:i+window]==seq2[j:j+window]:\n",
    "                x.append(i)\n",
    "                y.append(j)\n",
    "    return plt.scatter(x,y)"
   ]
  },
  {
   "cell_type": "code",
   "execution_count": 3,
   "metadata": {},
   "outputs": [],
   "source": [
    "#fonction renvoyant les coordonnées des points du dot_plot (matrice de point) á partir de deux sequences avec une fenêtre comme seuil minimum\n",
    "def dotplot_index(seq1,seq2,window):\n",
    "    x=[]\n",
    "    y=[]\n",
    "    for i in range(len(seq1)-window):\n",
    "        for j in range(len(seq2)-window):\n",
    "            if seq1[i:i+window]==seq2[j:j+window]:\n",
    "                x.append(i)\n",
    "                y.append(j)\n",
    "    return x,y"
   ]
  },
  {
   "cell_type": "code",
   "execution_count": 4,
   "metadata": {},
   "outputs": [],
   "source": [
    "# fonction faisant un alignement multiple à partir du fichier file par le programme Clustalw2.exe, produisant en sortie un fichier file.aln et file.dnd\n",
    "def msalign(file):\n",
    "    clustalw2=r\"C:\\Program Files (x86)\\ClustalW2\\clustalw2.exe\"\n",
    "    clustalw_cline = ClustalwCommandline(clustalw2, infile= file)\n",
    "    stdout, stderr = clustalw_cline()    \n"
   ]
  },
  {
   "cell_type": "code",
   "execution_count": 5,
   "metadata": {},
   "outputs": [],
   "source": [
    "# Fonction pour afficher les alignements\n",
    "def display_alignment(file):\n",
    "    clustalalign = AlignIO.read(f\"{file[:-6]}.aln\", \"clustal\")    \n",
    "    dico_aa={'G':0,'P':1,'A':2,'V':3,'L':4,'I':5,'M':6,'C':7,'F':8,'Y':9,'W':10,'H':11,'K':12,'R':13,'Q':14,'N':15,'E':16,'D':17,'S':18,'T':19,'-':20}\n",
    "    for a in clustalalign:\n",
    "        for i in a.seq:\n",
    "            if i not in dico_aa.keys():\n",
    "                print(i)\n",
    "            \n",
    "        print(\"*\"*50)\n",
    "        print(a.description)\n",
    "        print(a.seq)\n",
    "        print(len(a.seq))"
   ]
  },
  {
   "cell_type": "code",
   "execution_count": 9,
   "metadata": {},
   "outputs": [],
   "source": [
    "# fonction créant un graphique représentant la conservation à chaque position de la séquence consensus et retournant le dataframe AA/score et la sequence\n",
    "def graphique_conservation(file,seuil=0):\n",
    "        clustalalign = AlignIO.read(f\"{file[:-6]}.aln\", \"clustal\")    \n",
    "        length=len(clustalalign[0].seq)\n",
    "        dico_aa={'G':0,'P':1,'A':2,'V':3,'L':4,'I':5,'M':6,'C':7,'F':8,'Y':9,'W':10,'H':11,'K':12,'R':13,'Q':14,'N':15,'E':16,'D':17,'S':18,'T':19,'-':20}\n",
    "        array_aa=['G','P','A','V','L','I','M','C','F','Y','W','H','K','R','Q','N','E','D','S','T','-']\n",
    "        alignment_matrix=np.zeros((21,length))\n",
    "        for s in range(len(clustalalign)):\n",
    "            for a in range(len(clustalalign[s].seq)):\n",
    "                if clustalalign[s].seq[a] in dico_aa.keys():\n",
    "                    id_row=dico_aa[clustalalign[s].seq[a]]\n",
    "                    alignment_matrix[id_row][a]+=1 \n",
    "\n",
    "        best_aa=[]\n",
    "        for n in alignment_matrix.argmax(axis=0):\n",
    "            best_aa.append(array_aa[n])\n",
    "\n",
    "        score_aa=[]\n",
    "        for b,j in zip(alignment_matrix.argmax(axis=0),range(length)):\n",
    "            score_aa.append(alignment_matrix[b][j]/len(clustalalign))\n",
    "        \n",
    "        data=pd.DataFrame({'AA':best_aa,'score':score_aa})\n",
    "\n",
    "        list_color=[]\n",
    "        for a in data['AA']:\n",
    "            list_color.append(dico_aa[a])\n",
    "        dico_color={'G':'#FADBD8','P':'#A9CCE3','A':'#DAEA0C','V':'#F9E79F','L':'#F0B27A','I':'#85929E','M':'#EC7063','C':'#8E44AD','F':'#5DADE2','Y':'#EA0CCF','W':'#F1C40F','H':'#E67E22','K':'#E74C3C','R':'#1E8449','Q':'#B7950B','N':'#1A5276','E':'#1E8449','D':'#0CD8EA','S':'#4A235A','T':'#6E2C00','-':20}\n",
    "    \n",
    "        plt.figure(figsize=(25,10))\n",
    "        plt.ylabel(\"conservation en %\")\n",
    "        plt.xlabel('position')\n",
    "        plt.legend(loc=3, prop={'size': 8})\n",
    "        list_label=[]\n",
    "        for i in range(length):\n",
    "            color=dico_color[data.loc[i]['AA']]\n",
    "            if data.loc[i]['score']>seuil:\n",
    "                if data.iloc[i]['AA'] not in list_label:\n",
    "                    plt.scatter(i,data.loc[i]['score'],s=data.loc[i]['score']*1000,cmap='magma',label=data.loc[i]['AA'],c=color)\n",
    "                    list_label.append(data.loc[i]['AA'])\n",
    "                else:\n",
    "                    plt.scatter(i,data.loc[i]['score'],s=data.loc[i]['score']*1000,cmap='magma',c=color)\n",
    "\n",
    "        params = {'legend.fontsize': 20,\n",
    "                  'legend.handlelength': 2}\n",
    "        plot.rcParams.update(params) \n",
    "        plt.legend()\n",
    "        return data,best_aa"
   ]
  },
  {
   "cell_type": "code",
   "execution_count": 11,
   "metadata": {},
   "outputs": [],
   "source": [
    "# Fonction qui calcule la RMSD locale à chaque position pour une fenêtre déterminée en paramètres pour pdb1 superposée sur pdb2, et qui retourne la liste des RMSD et trace un graphique\n",
    "# windoxw: taille de la fenêtre; pdb1/pdb2: nom fichier pdb; length_seq1: taille de la séquence de la protéine à analyser\n",
    "def local_rmsd(window,pdb1,pdb2,length_seq1):\n",
    "    \n",
    "    # Open a PyMOL window\n",
    "    _stdouterr = sys.stdout, sys.stderr\n",
    "    pymol.finish_launching(['pymol', '-q'])\n",
    "    sys.stdout, sys.stderr = _stdouterr\n",
    "\n",
    "    list_RMSD = []\n",
    "    pymol.cmd.load(pdb2)\n",
    "\n",
    "    for i in range(length_seq1):\n",
    "        pymol.cmd.load(pdb1)\n",
    "        s=pymol.cmd.select(f\"{pdb1[:-4]} and resid {i}-{i+window}\")\n",
    "        pymol.cmd.extract(\"obj1\",\"s\")\n",
    "        result=pymol.cmd.cealign(\"obj1\",f\"{pdb2[:-4]}\")\n",
    "        list_RMSD.append(result[\"RMSD\"])\n",
    "        pymol.cmd.delete(\"obj1\")\n",
    "        pymol.cmd.delete(f\"{pdb1[:-4]}\")\n",
    "        \n",
    "    plt.plot(list_RMSD)\n",
    "    return list_RMSD\n",
    "\n",
    "\n",
    "    "
   ]
  },
  {
   "cell_type": "code",
   "execution_count": null,
   "metadata": {},
   "outputs": [],
   "source": [
    "#Fonction créant un dictionnaire avec pour clé l'id et pour valeur les GO term des voies biologiques\n",
    "def dico_bp(list_id):\n",
    "    for i in list_id:\n",
    "        dico_bp_b={}\n",
    "        list_temp=[]\n",
    "        r=requests.get(f\"http://www.ebi.ac.uk/QuickGO/services/annotation/search?geneProductId={i}\")\n",
    "        data=r.json()\n",
    "        for j in data[\"results\"]:\n",
    "            if j[\"goAspect\"]==\"biological_process\":\n",
    "                list_temp.append(j[\"goId\"])\n",
    "        dico_bp_b[i]=list_temp\n",
    "    "
   ]
  },
  {
   "cell_type": "code",
   "execution_count": null,
   "metadata": {},
   "outputs": [],
   "source": [
    "def common_parent_go_ids(terms, go):\n",
    "    '''\n",
    "        This function finds the common ancestors in the GO \n",
    "        tree of the list of terms in the input.\n",
    "    '''\n",
    "    # Find candidates from first\n",
    "    rec = go[terms[0]]\n",
    "    candidates = rec.get_all_parents()\n",
    "    candidates.update({terms[0]})\n",
    "    \n",
    "    # Find intersection with second to nth term\n",
    "    for term in terms[1:]:\n",
    "        rec = go[term]\n",
    "        parents = rec.get_all_parents()\n",
    "        parents.update({term})\n",
    "        \n",
    "        # Find the intersection with the candidates, and update.\n",
    "        candidates.intersection_update(parents)\n",
    "        \n",
    "    return candidates"
   ]
  },
  {
   "cell_type": "code",
   "execution_count": null,
   "metadata": {},
   "outputs": [],
   "source": [
    "def deepest_common_ancestor(terms, go):\n",
    "    '''\n",
    "        This function gets the nearest common ancestor \n",
    "        using the above function.\n",
    "        Only returns single most specific - assumes unique exists.\n",
    "    '''\n",
    "    # Take the element at maximum depth. \n",
    "    return max(common_parent_go_ids(terms, go), key=lambda t: go[t].depth)"
   ]
  },
  {
   "cell_type": "code",
   "execution_count": null,
   "metadata": {},
   "outputs": [],
   "source": [
    "def convert_ACC_ENSEMBL(id):\n",
    "    url = 'http://www.uniprot.org/mapping/' \n",
    "    params = {'from':'ACC','to':'ENSEMBL_ID','format':'tab','query':id} \n",
    "    request = requests.get(url, params)\n",
    "    return request.text.split(\"\\n\")[1].split(\"\\t\")[1]\n"
   ]
  },
  {
   "cell_type": "code",
   "execution_count": null,
   "metadata": {},
   "outputs": [],
   "source": [
    "def convert_ENSEMBL_ACC(id):\n",
    "    url = 'http://www.uniprot.org/mapping/' \n",
    "    params = {'from':'ENSEMBL_ID','to':'ACC','format':'tab','query':id} \n",
    "    request = requests.get(url, params)\n",
    "    return request.text.split(\"\\n\")[1].split(\"\\t\")[1]\n"
   ]
  },
  {
   "cell_type": "code",
   "execution_count": null,
   "metadata": {},
   "outputs": [],
   "source": [
    "def convert_ACC_GENENAME(id):\n",
    "    url = 'http://www.uniprot.org/mapping/' \n",
    "    params = {'from':'ACC','to':'GENENAME','format':'tab','query':id} \n",
    "    request = requests.get(url, params)\n",
    "    return request.text.split(\"\\n\")[1].split(\"\\t\")[1]\n"
   ]
  }
 ],
 "metadata": {
  "kernelspec": {
   "display_name": "Python 3",
   "language": "python",
   "name": "python3"
  },
  "language_info": {
   "codemirror_mode": {
    "name": "ipython",
    "version": 3
   },
   "file_extension": ".py",
   "mimetype": "text/x-python",
   "name": "python",
   "nbconvert_exporter": "python",
   "pygments_lexer": "ipython3",
   "version": "3.8.3"
  }
 },
 "nbformat": 4,
 "nbformat_minor": 4
}
