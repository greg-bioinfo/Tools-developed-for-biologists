{
 "cells": [
  {
   "cell_type": "markdown",
   "metadata": {
    "id": "B_i-A-GL21ZH"
   },
   "source": [
    "# Search for proteins with keywords close to the studied protein and whose neighbors resemble the neighbors of this same protein"
   ]
  },
  {
   "cell_type": "markdown",
   "metadata": {
    "id": "b7celpN73ohC"
   },
   "source": [
    "- Enter the name of the studied protein"
   ]
  },
  {
   "cell_type": "code",
   "execution_count": 1,
   "metadata": {
    "executionInfo": {
     "elapsed": 309,
     "status": "ok",
     "timestamp": 1660389232850,
     "user": {
      "displayName": "CRCINA IMPACT",
      "userId": "11162400765451981766"
     },
     "user_tz": -120
    },
    "id": "48Knt9Xo20_X"
   },
   "outputs": [],
   "source": [
    "target=\"FAM111B\"\n",
    "top=10\n",
    "main_keyword=[]"
   ]
  },
  {
   "cell_type": "markdown",
   "metadata": {
    "id": "5FU_KXTc30bN"
   },
   "source": [
    "## Library"
   ]
  },
  {
   "cell_type": "code",
   "execution_count": 2,
   "metadata": {
    "colab": {
     "base_uri": "https://localhost:8080/"
    },
    "executionInfo": {
     "elapsed": 8781,
     "status": "ok",
     "timestamp": 1660389241870,
     "user": {
      "displayName": "CRCINA IMPACT",
      "userId": "11162400765451981766"
     },
     "user_tz": -120
    },
    "id": "gm85Z7rp5vvq",
    "outputId": "6017b40e-75aa-4802-e817-7a20dbdd5585"
   },
   "outputs": [
    {
     "name": "stdout",
     "output_type": "stream",
     "text": [
      "Requirement already satisfied: goatools in c:\\users\\root\\anaconda3\\lib\\site-packages (1.2.3)\n",
      "Requirement already satisfied: numpy in c:\\users\\root\\anaconda3\\lib\\site-packages (from goatools) (1.19.5)\n",
      "Requirement already satisfied: scipy in c:\\users\\root\\anaconda3\\lib\\site-packages (from goatools) (1.8.1)\n",
      "Requirement already satisfied: docopt in c:\\users\\root\\anaconda3\\lib\\site-packages (from goatools) (0.6.2)\n",
      "Requirement already satisfied: pandas in c:\\users\\root\\anaconda3\\lib\\site-packages (from goatools) (1.0.5)\n",
      "Requirement already satisfied: pydot in c:\\users\\root\\anaconda3\\lib\\site-packages (from goatools) (1.4.2)\n",
      "Requirement already satisfied: requests in c:\\users\\root\\anaconda3\\lib\\site-packages (from goatools) (2.24.0)\n",
      "Requirement already satisfied: statsmodels in c:\\users\\root\\anaconda3\\lib\\site-packages (from goatools) (0.11.1)\n",
      "Requirement already satisfied: xlsxwriter in c:\\users\\root\\anaconda3\\lib\\site-packages (from goatools) (1.2.9)\n",
      "Requirement already satisfied: xlrd==1.2.0 in c:\\users\\root\\anaconda3\\lib\\site-packages (from goatools) (1.2.0)\n",
      "Requirement already satisfied: python-dateutil>=2.6.1 in c:\\users\\root\\anaconda3\\lib\\site-packages (from pandas->goatools) (2.8.1)\n",
      "Requirement already satisfied: pytz>=2017.2 in c:\\users\\root\\anaconda3\\lib\\site-packages (from pandas->goatools) (2020.1)\n",
      "Requirement already satisfied: pyparsing>=2.1.4 in c:\\users\\root\\anaconda3\\lib\\site-packages (from pydot->goatools) (2.4.7)\n",
      "Requirement already satisfied: chardet<4,>=3.0.2 in c:\\users\\root\\anaconda3\\lib\\site-packages (from requests->goatools) (3.0.4)\n",
      "Requirement already satisfied: idna<3,>=2.5 in c:\\users\\root\\anaconda3\\lib\\site-packages (from requests->goatools) (2.10)\n",
      "Requirement already satisfied: certifi>=2017.4.17 in c:\\users\\root\\anaconda3\\lib\\site-packages (from requests->goatools) (2021.10.8)\n",
      "Requirement already satisfied: urllib3!=1.25.0,!=1.25.1,<1.26,>=1.21.1 in c:\\users\\root\\anaconda3\\lib\\site-packages (from requests->goatools) (1.25.11)\n",
      "Requirement already satisfied: patsy>=0.5 in c:\\users\\root\\anaconda3\\lib\\site-packages (from statsmodels->goatools) (0.5.1)\n",
      "Requirement already satisfied: six>=1.5 in c:\\users\\root\\anaconda3\\lib\\site-packages (from python-dateutil>=2.6.1->pandas->goatools) (1.15.0)\n",
      "Note: you may need to restart the kernel to use updated packages.\n",
      "Requirement already satisfied: colorama in c:\\users\\root\\anaconda3\\lib\\site-packages (0.4.3)\n",
      "Note: you may need to restart the kernel to use updated packages.\n"
     ]
    },
    {
     "ename": "ModuleNotFoundError",
     "evalue": "No module named 'google.colab'",
     "output_type": "error",
     "traceback": [
      "\u001b[1;31m---------------------------------------------------------------------------\u001b[0m",
      "\u001b[1;31mModuleNotFoundError\u001b[0m                       Traceback (most recent call last)",
      "\u001b[1;32m<ipython-input-2-fcbc22766d13>\u001b[0m in \u001b[0;36m<module>\u001b[1;34m\u001b[0m\n\u001b[0;32m      9\u001b[0m \u001b[1;32mfrom\u001b[0m \u001b[0mscipy\u001b[0m\u001b[1;33m.\u001b[0m\u001b[0mspatial\u001b[0m \u001b[1;32mimport\u001b[0m \u001b[0mdistance\u001b[0m\u001b[1;33m\u001b[0m\u001b[1;33m\u001b[0m\u001b[0m\n\u001b[0;32m     10\u001b[0m \u001b[1;32mfrom\u001b[0m \u001b[0mcolorama\u001b[0m \u001b[1;32mimport\u001b[0m \u001b[0mBack\u001b[0m\u001b[1;33m,\u001b[0m \u001b[0mStyle\u001b[0m\u001b[1;33m,\u001b[0m \u001b[0mFore\u001b[0m\u001b[1;33m\u001b[0m\u001b[1;33m\u001b[0m\u001b[0m\n\u001b[1;32m---> 11\u001b[1;33m \u001b[1;32mfrom\u001b[0m \u001b[0mgoogle\u001b[0m\u001b[1;33m.\u001b[0m\u001b[0mcolab\u001b[0m \u001b[1;32mimport\u001b[0m \u001b[0mdrive\u001b[0m\u001b[1;33m\u001b[0m\u001b[1;33m\u001b[0m\u001b[0m\n\u001b[0m\u001b[0;32m     12\u001b[0m \u001b[1;32mfrom\u001b[0m \u001b[0mgoogle\u001b[0m\u001b[1;33m.\u001b[0m\u001b[0mcolab\u001b[0m \u001b[1;32mimport\u001b[0m \u001b[0mfiles\u001b[0m\u001b[1;33m\u001b[0m\u001b[1;33m\u001b[0m\u001b[0m\n\u001b[0;32m     13\u001b[0m \u001b[0mdrive\u001b[0m\u001b[1;33m.\u001b[0m\u001b[0mmount\u001b[0m\u001b[1;33m(\u001b[0m\u001b[1;34m'/content/gdrive'\u001b[0m\u001b[1;33m)\u001b[0m\u001b[1;33m\u001b[0m\u001b[1;33m\u001b[0m\u001b[0m\n",
      "\u001b[1;31mModuleNotFoundError\u001b[0m: No module named 'google.colab'"
     ]
    }
   ],
   "source": [
    "%pip install goatools\n",
    "%pip install colorama\n",
    "from goatools import obo_parser\n",
    "import requests\n",
    "import numpy as np\n",
    "from sklearn.preprocessing import MultiLabelBinarizer\n",
    "import networkx as nx\n",
    "import json\n",
    "from scipy.spatial import distance\n",
    "from colorama import Back, Style, Fore\n",
    "from google.colab import drive\n",
    "from google.colab import files\n",
    "drive.mount('/content/gdrive')\n"
   ]
  },
  {
   "cell_type": "markdown",
   "metadata": {
    "id": "0sy1b0ZD4MKS"
   },
   "source": [
    "## Appel de fonction"
   ]
  },
  {
   "cell_type": "code",
   "execution_count": 26,
   "metadata": {
    "colab": {
     "base_uri": "https://localhost:8080/"
    },
    "executionInfo": {
     "elapsed": 2222,
     "status": "ok",
     "timestamp": 1660389244070,
     "user": {
      "displayName": "CRCINA IMPACT",
      "userId": "11162400765451981766"
     },
     "user_tz": -120
    },
    "id": "TqOmNn33lCzz",
    "outputId": "8b70c5c5-adde-4d1d-cc4d-146ae408c809"
   },
   "outputs": [
    {
     "name": "stdout",
     "output_type": "stream",
     "text": [
      "/content/gdrive/MyDrive/Proximity_keywords/go-basic.obo: fmt(1.2) rel(2022-03-22) 47,103 Terms\n"
     ]
    }
   ],
   "source": [
    "#Chargement du dictionnaire goatools pour convertir les goterm\n",
    "go = obo_parser.GODag(\"/content/gdrive/MyDrive/Proximity_keywords/go-basic.obo\")"
   ]
  },
  {
   "cell_type": "code",
   "execution_count": 27,
   "metadata": {
    "executionInfo": {
     "elapsed": 21,
     "status": "ok",
     "timestamp": 1660389244073,
     "user": {
      "displayName": "CRCINA IMPACT",
      "userId": "11162400765451981766"
     },
     "user_tz": -120
    },
    "id": "9B4X7VqxkSEA"
   },
   "outputs": [],
   "source": [
    "with open(\"/content/gdrive/MyDrive/Search_protein_keywords/bp_string2.json\",\"r\") as f:\n",
    "    dico_bp=json.load(f)\n"
   ]
  },
  {
   "cell_type": "code",
   "execution_count": 28,
   "metadata": {
    "colab": {
     "base_uri": "https://localhost:8080/"
    },
    "executionInfo": {
     "elapsed": 487,
     "status": "ok",
     "timestamp": 1660389244541,
     "user": {
      "displayName": "CRCINA IMPACT",
      "userId": "11162400765451981766"
     },
     "user_tz": -120
    },
    "id": "Rs1Vlt_r-ZZ0",
    "outputId": "30a35fdd-1ece-484d-de86-ae518b927c12"
   },
   "outputs": [
    {
     "data": {
      "text/plain": [
       "16854"
      ]
     },
     "execution_count": 28,
     "metadata": {},
     "output_type": "execute_result"
    }
   ],
   "source": [
    "with open(\"/content/gdrive/MyDrive/Proximity_keywords/kw_string3.json\", \"r\") as f:\n",
    "        dico_kw=json.load(f)\n",
    "len(dico_kw.keys())"
   ]
  },
  {
   "cell_type": "code",
   "execution_count": 29,
   "metadata": {
    "colab": {
     "base_uri": "https://localhost:8080/"
    },
    "executionInfo": {
     "elapsed": 353,
     "status": "ok",
     "timestamp": 1660389244880,
     "user": {
      "displayName": "CRCINA IMPACT",
      "userId": "11162400765451981766"
     },
     "user_tz": -120
    },
    "id": "YL7th5dUs0Sf",
    "outputId": "1cb01149-84c4-4e66-aa8f-80f69f0116df"
   },
   "outputs": [
    {
     "data": {
      "text/plain": [
       "16854"
      ]
     },
     "execution_count": 29,
     "metadata": {},
     "output_type": "execute_result"
    }
   ],
   "source": [
    "with open(\"/content/gdrive/MyDrive/Proximity_keywords/dico_mlb.json\", \"r\") as f:\n",
    "        dico_mlb=json.load(f)\n",
    "len(dico_mlb.keys())"
   ]
  },
  {
   "cell_type": "code",
   "execution_count": 30,
   "metadata": {
    "colab": {
     "base_uri": "https://localhost:8080/"
    },
    "executionInfo": {
     "elapsed": 24,
     "status": "ok",
     "timestamp": 1660389244884,
     "user": {
      "displayName": "CRCINA IMPACT",
      "userId": "11162400765451981766"
     },
     "user_tz": -120
    },
    "id": "JNBxGazFztJQ",
    "outputId": "1f121029-8230-4b00-91f7-d4f4c17bfed9",
    "scrolled": true
   },
   "outputs": [
    {
     "data": {
      "text/plain": [
       "[9, 25, 217, 343, 373, 574, 607, 736]"
      ]
     },
     "execution_count": 30,
     "metadata": {},
     "output_type": "execute_result"
    }
   ],
   "source": [
    "dico_mlb[\"FAM111B\"][0]"
   ]
  },
  {
   "cell_type": "code",
   "execution_count": 31,
   "metadata": {
    "executionInfo": {
     "elapsed": 533,
     "status": "ok",
     "timestamp": 1660389245404,
     "user": {
      "displayName": "CRCINA IMPACT",
      "userId": "11162400765451981766"
     },
     "user_tz": -120
    },
    "id": "vbagaqjmyU4F"
   },
   "outputs": [],
   "source": [
    "dico_mlb_kw={}\n",
    "for k in dico_mlb.keys():\n",
    "  array=np.zeros((1,789))\n",
    "  for i in dico_mlb[k][0]:\n",
    "    array[0,int(i)]=1\n",
    "  dico_mlb_kw[k]=array"
   ]
  },
  {
   "cell_type": "code",
   "execution_count": 32,
   "metadata": {
    "colab": {
     "base_uri": "https://localhost:8080/"
    },
    "executionInfo": {
     "elapsed": 20,
     "status": "ok",
     "timestamp": 1660389245406,
     "user": {
      "displayName": "CRCINA IMPACT",
      "userId": "11162400765451981766"
     },
     "user_tz": -120
    },
    "id": "FOH_mZdO3_5n",
    "outputId": "7686b7c1-7468-4463-e4f5-3ab677c8ce55"
   },
   "outputs": [
    {
     "data": {
      "text/plain": [
       "8.0"
      ]
     },
     "execution_count": 32,
     "metadata": {},
     "output_type": "execute_result"
    }
   ],
   "source": [
    "dico_mlb_kw[\"FAM111B\"].sum()"
   ]
  },
  {
   "cell_type": "code",
   "execution_count": 33,
   "metadata": {
    "executionInfo": {
     "elapsed": 224,
     "status": "ok",
     "timestamp": 1660389245616,
     "user": {
      "displayName": "CRCINA IMPACT",
      "userId": "11162400765451981766"
     },
     "user_tz": -120
    },
    "id": "ZIBm5PtX4bY-"
   },
   "outputs": [],
   "source": [
    "dico_mlb_neig={}\n",
    "for k in dico_mlb.keys():\n",
    "  array=np.zeros((1,789))\n",
    "  for i in dico_mlb[k][1]:\n",
    "    array[0,int(i)]=1\n",
    "  dico_mlb_neig[k]=array\n"
   ]
  },
  {
   "cell_type": "code",
   "execution_count": 34,
   "metadata": {
    "colab": {
     "base_uri": "https://localhost:8080/"
    },
    "executionInfo": {
     "elapsed": 226,
     "status": "ok",
     "timestamp": 1660389245834,
     "user": {
      "displayName": "CRCINA IMPACT",
      "userId": "11162400765451981766"
     },
     "user_tz": -120
    },
    "id": "5JrZexax5vwK",
    "outputId": "644ac697-1549-455d-e9dc-14786c9bdc48"
   },
   "outputs": [
    {
     "data": {
      "text/plain": [
       "False"
      ]
     },
     "execution_count": 34,
     "metadata": {},
     "output_type": "execute_result"
    }
   ],
   "source": [
    "list_unique_kw=[]\n",
    "for i in list(dico_kw.values()):\n",
    "  for j in i :\n",
    "    if j not in list_unique_kw:\n",
    "      list_unique_kw.append(j)\n",
    "len(list_unique_kw)\n",
    "main_keyword in list_unique_kw"
   ]
  },
  {
   "cell_type": "code",
   "execution_count": 35,
   "metadata": {
    "colab": {
     "base_uri": "https://localhost:8080/"
    },
    "executionInfo": {
     "elapsed": 1259,
     "status": "ok",
     "timestamp": 1660389247087,
     "user": {
      "displayName": "CRCINA IMPACT",
      "userId": "11162400765451981766"
     },
     "user_tz": -120
    },
    "id": "oItev15F5vwV",
    "outputId": "1d33c2dc-4154-4d80-99e4-39edd104eada"
   },
   "outputs": [
    {
     "data": {
      "text/plain": [
       "16853"
      ]
     },
     "execution_count": 35,
     "metadata": {},
     "output_type": "execute_result"
    }
   ],
   "source": [
    "dico_h_kw={}\n",
    "for k in dico_mlb.keys():\n",
    "            if k!=target:\n",
    "              if len(set(main_keyword).intersection(set(list_unique_kw))) >= len(main_keyword):\n",
    "                if len(set(main_keyword).intersection(set(dico_kw[k])))>=len(main_keyword):\n",
    "                  h1=distance.hamming(dico_mlb_kw[k],dico_mlb_kw[target])\n",
    "                  dico_h_kw[k]=h1\n",
    "        \n",
    "              else:\n",
    "                  h1=distance.hamming(dico_mlb_kw[k],dico_mlb_kw[target])\n",
    "                  dico_h_kw[k]=h1\n",
    "\n",
    "len(dico_h_kw.keys())"
   ]
  },
  {
   "cell_type": "code",
   "execution_count": 36,
   "metadata": {
    "colab": {
     "base_uri": "https://localhost:8080/"
    },
    "executionInfo": {
     "elapsed": 21,
     "status": "ok",
     "timestamp": 1660389247090,
     "user": {
      "displayName": "CRCINA IMPACT",
      "userId": "11162400765451981766"
     },
     "user_tz": -120
    },
    "id": "cUXTv8O6UT-3",
    "outputId": "a51aa2ad-9c82-45ba-a747-a00bc0cca6fb"
   },
   "outputs": [
    {
     "data": {
      "text/plain": [
       "16853"
      ]
     },
     "execution_count": 36,
     "metadata": {},
     "output_type": "execute_result"
    }
   ],
   "source": [
    "len(set(main_keyword).intersection(set(dico_kw[\"ABHD12B\"])))>=len(main_keyword)\n",
    "len(list(dico_h_kw.keys()))"
   ]
  },
  {
   "cell_type": "code",
   "execution_count": 37,
   "metadata": {
    "colab": {
     "base_uri": "https://localhost:8080/"
    },
    "executionInfo": {
     "elapsed": 877,
     "status": "ok",
     "timestamp": 1660389247955,
     "user": {
      "displayName": "CRCINA IMPACT",
      "userId": "11162400765451981766"
     },
     "user_tz": -120
    },
    "id": "uyW8bF7p5vwW",
    "outputId": "4bcae1d1-7d51-48b5-b19f-198d61e0c57b"
   },
   "outputs": [
    {
     "data": {
      "text/plain": [
       "16853"
      ]
     },
     "execution_count": 37,
     "metadata": {},
     "output_type": "execute_result"
    }
   ],
   "source": [
    "dico_h_neig={}\n",
    "for k in dico_h_kw.keys():\n",
    "            if k!=target:\n",
    "                h1=distance.hamming(dico_mlb_neig[k],dico_mlb_neig[target])\n",
    "                dico_h_neig[k]=h1\n",
    "len(dico_h_neig.keys())"
   ]
  },
  {
   "cell_type": "code",
   "execution_count": 38,
   "metadata": {
    "executionInfo": {
     "elapsed": 16,
     "status": "ok",
     "timestamp": 1660389247958,
     "user": {
      "displayName": "CRCINA IMPACT",
      "userId": "11162400765451981766"
     },
     "user_tz": -120
    },
    "id": "bZblv9Rr5vwY"
   },
   "outputs": [],
   "source": [
    "top_kw=np.argsort(list(dico_h_kw.values()))[:top]"
   ]
  },
  {
   "cell_type": "code",
   "execution_count": 39,
   "metadata": {
    "executionInfo": {
     "elapsed": 54,
     "status": "ok",
     "timestamp": 1660389248312,
     "user": {
      "displayName": "CRCINA IMPACT",
      "userId": "11162400765451981766"
     },
     "user_tz": -120
    },
    "id": "aPaIiAKi5vwZ"
   },
   "outputs": [],
   "source": [
    "list_top=[]\n",
    "for i in top_kw:\n",
    "    list_top.append(list(dico_h_kw.keys())[i])"
   ]
  },
  {
   "cell_type": "code",
   "execution_count": 40,
   "metadata": {
    "colab": {
     "base_uri": "https://localhost:8080/"
    },
    "executionInfo": {
     "elapsed": 54,
     "status": "ok",
     "timestamp": 1660389248314,
     "user": {
      "displayName": "CRCINA IMPACT",
      "userId": "11162400765451981766"
     },
     "user_tz": -120
    },
    "id": "9IV3cGTm7JCA",
    "outputId": "6e6286ce-d45b-4352-fdcf-6e7c0eeeb476"
   },
   "outputs": [
    {
     "name": "stdout",
     "output_type": "stream",
     "text": [
      "C19orf68  :  0.005069708491761723\n",
      "MACROD1  :  0.005069708491761723\n",
      "C19orf47  :  0.0063371356147021544\n",
      "MPPED1  :  0.0063371356147021544\n",
      "C6orf222  :  0.0063371356147021544\n",
      "GPATCH4  :  0.0063371356147021544\n",
      "LIN37  :  0.0063371356147021544\n",
      "ABHD12B  :  0.0063371356147021544\n",
      "FNBP4  :  0.0063371356147021544\n",
      "C5orf24  :  0.0063371356147021544\n"
     ]
    }
   ],
   "source": [
    "for i in np.argsort([dico_h_kw[j] for j in list_top]):\n",
    "  print(list_top[i],\" : \",dico_h_kw[list_top[i]])"
   ]
  },
  {
   "cell_type": "code",
   "execution_count": 41,
   "metadata": {
    "executionInfo": {
     "elapsed": 54,
     "status": "ok",
     "timestamp": 1660389248317,
     "user": {
      "displayName": "CRCINA IMPACT",
      "userId": "11162400765451981766"
     },
     "user_tz": -120
    },
    "id": "9BXdSvLe5vwa"
   },
   "outputs": [],
   "source": [
    "list_d=[]\n",
    "for i in list_top:\n",
    "  list_d.append(dico_h_neig[i])"
   ]
  },
  {
   "cell_type": "code",
   "execution_count": 42,
   "metadata": {
    "colab": {
     "base_uri": "https://localhost:8080/"
    },
    "executionInfo": {
     "elapsed": 57,
     "status": "ok",
     "timestamp": 1660389248321,
     "user": {
      "displayName": "CRCINA IMPACT",
      "userId": "11162400765451981766"
     },
     "user_tz": -120
    },
    "id": "NXXHQbc76zpx",
    "outputId": "957dc3d5-71bd-42c6-c75f-db680ed413e6"
   },
   "outputs": [
    {
     "name": "stdout",
     "output_type": "stream",
     "text": [
      "ABHD12B  :  0.032953105196451206\n",
      "C6orf222  :  0.034220532319391636\n",
      "C19orf68  :  0.044359949302915085\n",
      "MPPED1  :  0.07984790874524715\n",
      "C5orf24  :  0.08238276299112801\n",
      "FNBP4  :  0.08871989860583017\n",
      "C19orf47  :  0.09252217997465145\n",
      "LIN37  :  0.10139416983523447\n",
      "GPATCH4  :  0.12927756653992395\n",
      "MACROD1  :  0.13307984790874525\n"
     ]
    }
   ],
   "source": [
    "list_top_final=[]\n",
    "for i in np.argsort(list_d):\n",
    "  list_top_final.append(list_top[i])\n",
    "  print(list_top[i],\" : \",list_d[i])"
   ]
  },
  {
   "cell_type": "markdown",
   "metadata": {
    "id": "V-n6JE3M4nDY"
   },
   "source": [
    "## Résultat"
   ]
  },
  {
   "cell_type": "code",
   "execution_count": 43,
   "metadata": {
    "colab": {
     "base_uri": "https://localhost:8080/",
     "height": 1000
    },
    "executionInfo": {
     "elapsed": 55,
     "status": "ok",
     "timestamp": 1660389248327,
     "user": {
      "displayName": "CRCINA IMPACT",
      "userId": "11162400765451981766"
     },
     "user_tz": -120
    },
    "id": "FlkbFMYA5vwb",
    "outputId": "9d21d416-eb18-4281-a141-cf76e8fa85f8",
    "scrolled": true
   },
   "outputs": [
    {
     "name": "stdout",
     "output_type": "stream",
     "text": [
      "************************************************** \n",
      "\n",
      "FAM111B \n",
      " ['Acetylation', 'Alternative splicing', 'Disease variant', 'Hydrolase', 'Isopeptide bond', 'Protease', 'Reference proteome', 'Ubl conjugation']\n",
      "\n",
      " ************************************************** \n",
      "\n",
      "ABHD12B \n",
      "\n",
      "Alternative splicing Hydrolase Reference proteome \n",
      "\n",
      "['monoacylglycerol catabolic process', 'phosphatidylserine catabolic process', 'macromolecule depalmitoylation']\n",
      "\n",
      " ************************************************** \n",
      "\n",
      "C6orf222 \n",
      "\n",
      "Isopeptide bond Reference proteome Ubl conjugation \n",
      "\n",
      "[]\n",
      "\n",
      " ************************************************** \n",
      "\n",
      "C19orf68 \n",
      "\n",
      "Alternative splicing Isopeptide bond Reference proteome Ubl conjugation \n",
      "\n",
      "[]\n",
      "\n",
      " ************************************************** \n",
      "\n",
      "MPPED1 \n",
      "\n",
      "Alternative splicing Hydrolase Reference proteome \n",
      "\n",
      "['biological_process']\n",
      "\n",
      " ************************************************** \n",
      "\n",
      "C5orf24 \n",
      "\n",
      "Alternative splicing Isopeptide bond \u001b[37m\u001b[41mPhosphoprotein \u001b[0m Reference proteome Ubl conjugation \n",
      "\n",
      "[]\n",
      "\n",
      " ************************************************** \n",
      "\n",
      "FNBP4 \n",
      "\n",
      "Acetylation Alternative splicing Isopeptide bond \u001b[37m\u001b[41mPhosphoprotein \u001b[0m Reference proteome \u001b[37m\u001b[41mRepeat \u001b[0m Ubl conjugation \n",
      "\n",
      "['biological_process']\n",
      "\n",
      " ************************************************** \n",
      "\n",
      "C19orf47 \n",
      "\n",
      "Alternative splicing Isopeptide bond \u001b[37m\u001b[41mPhosphoprotein \u001b[0m Reference proteome Ubl conjugation \n",
      "\n",
      "[]\n",
      "\n",
      " ************************************************** \n",
      "\n",
      "LIN37 \n",
      "\n",
      "Acetylation Isopeptide bond \u001b[37m\u001b[41mPhosphoprotein \u001b[0m Reference proteome Ubl conjugation \n",
      "\n",
      "['negative regulation of transcription by RNA polymerase II']\n",
      "\n",
      " ************************************************** \n",
      "\n",
      "GPATCH4 \n",
      "\n",
      "Acetylation Isopeptide bond \u001b[37m\u001b[41mPhosphoprotein \u001b[0m Reference proteome Ubl conjugation \n",
      "\n",
      "['regulation of ribosome biogenesis']\n",
      "\n",
      " ************************************************** \n",
      "\n",
      "MACROD1 \n",
      "\n",
      "Acetylation Hydrolase Isopeptide bond \u001b[37m\u001b[41mNucleus \u001b[0m Reference proteome Ubl conjugation \n",
      "\n",
      "['peptidyl-glutamate ADP-deribosylation', 'cellular response to DNA damage stimulus', 'purine nucleoside metabolic process', 'peptidyl-glutamate ADP-deribosylation', 'protein de-ADP-ribosylation', 'cellular response to DNA damage stimulus']\n"
     ]
    },
    {
     "data": {
      "application/javascript": [
       "\n",
       "    async function download(id, filename, size) {\n",
       "      if (!google.colab.kernel.accessAllowed) {\n",
       "        return;\n",
       "      }\n",
       "      const div = document.createElement('div');\n",
       "      const label = document.createElement('label');\n",
       "      label.textContent = `Downloading \"${filename}\": `;\n",
       "      div.appendChild(label);\n",
       "      const progress = document.createElement('progress');\n",
       "      progress.max = size;\n",
       "      div.appendChild(progress);\n",
       "      document.body.appendChild(div);\n",
       "\n",
       "      const buffers = [];\n",
       "      let downloaded = 0;\n",
       "\n",
       "      const channel = await google.colab.kernel.comms.open(id);\n",
       "      // Send a message to notify the kernel that we're ready.\n",
       "      channel.send({})\n",
       "\n",
       "      for await (const message of channel.messages) {\n",
       "        // Send a message to notify the kernel that we're ready.\n",
       "        channel.send({})\n",
       "        if (message.buffers) {\n",
       "          for (const buffer of message.buffers) {\n",
       "            buffers.push(buffer);\n",
       "            downloaded += buffer.byteLength;\n",
       "            progress.value = downloaded;\n",
       "          }\n",
       "        }\n",
       "      }\n",
       "      const blob = new Blob(buffers, {type: 'application/binary'});\n",
       "      const a = document.createElement('a');\n",
       "      a.href = window.URL.createObjectURL(blob);\n",
       "      a.download = filename;\n",
       "      div.appendChild(a);\n",
       "      a.click();\n",
       "      div.remove();\n",
       "    }\n",
       "  "
      ],
      "text/plain": [
       "<IPython.core.display.Javascript object>"
      ]
     },
     "metadata": {},
     "output_type": "display_data"
    },
    {
     "data": {
      "application/javascript": [
       "download(\"download_bdb172e0-a5aa-4e47-b12c-f9e8dbe01a10\", \"proximity_kw.txt\", 0)"
      ],
      "text/plain": [
       "<IPython.core.display.Javascript object>"
      ]
     },
     "metadata": {},
     "output_type": "display_data"
    }
   ],
   "source": [
    "with open(\"proximity_kw.txt\",\"w\") as f:\n",
    "  if target not in dico_kw.keys():\n",
    "    print(\"Cette protéines n'est pas dans le jeu de données\")\n",
    "  else:\n",
    "    kw_target=dico_kw[target]\n",
    "    print(\"*\"*50,\"\\n\")\n",
    "    f.write(\"*\"*50)\n",
    "    f.write(\"\\n\")\n",
    "    print(target,\"\\n\",dico_kw[target])\n",
    "    f.write(target)\n",
    "    f.write(\"\\n\")\n",
    "    f.write(f\"{dico_kw[target]}\")\n",
    "\n",
    "    for i in range(len(list_top_final)):\n",
    "      print(\"\\n\",\"*\"*50,\"\\n\")\n",
    "      f.write(\"\\n\")\n",
    "      f.write(\"*\"*50)\n",
    "      f.write(\"\\n\")\n",
    "      print(list_top_final[i],\"\\n\")\n",
    "      f.write(list_top_final[i])\n",
    "      f.write(\"\\n\")\n",
    "      for n in dico_kw[list_top_final[i]]:\n",
    "        if n not in kw_target:\n",
    "          print(Fore.WHITE + Back.RED + f\"{n}\", end=\" \")\n",
    "          f.write(n)\n",
    "          print(Style.RESET_ALL, end=\" \")\n",
    "        else:\n",
    "          print(n,end=\" \")\n",
    "          f.write(n)\n",
    "      print(\"\\n\")\n",
    "      f.write(\"\\n\")\n",
    "      print([go[y].name for y in dico_bp[list_top_final[i]]])\n",
    "      f.write(f\"{[go[y].name for y in dico_bp[list_top_final[i]]]}\")\n",
    "    files.download(\"proximity_kw.txt\")\n"
   ]
  }
 ],
 "metadata": {
  "colab": {
   "collapsed_sections": [
    "5FU_KXTc30bN",
    "0sy1b0ZD4MKS"
   ],
   "name": "Proximity_keywords.ipynb",
   "provenance": []
  },
  "kernelspec": {
   "display_name": "Python 3",
   "language": "python",
   "name": "python3"
  },
  "language_info": {
   "codemirror_mode": {
    "name": "ipython",
    "version": 3
   },
   "file_extension": ".py",
   "mimetype": "text/x-python",
   "name": "python",
   "nbconvert_exporter": "python",
   "pygments_lexer": "ipython3",
   "version": "3.8.3"
  }
 },
 "nbformat": 4,
 "nbformat_minor": 1
}
